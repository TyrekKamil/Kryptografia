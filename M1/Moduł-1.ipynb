{
 "cells": [
  {
   "cell_type": "markdown",
   "metadata": {},
   "source": [
    "# Moduł 1 - Kamil Tyrek 434797\n"
   ]
  },
  {
   "cell_type": "markdown",
   "metadata": {},
   "source": [
    "## Użycie zadań - menu oraz funkcje wspomagające"
   ]
  },
  {
   "attachments": {
    "image.png": {
     "image/png": "[encoded data removed]"
    }
   },
   "cell_type": "markdown",
   "metadata": {},
   "source": [
    "W repozytorium dostępny jest plik wstepMenu.py. Aby przetestować działanie algorytmów z poziomu konsoli należy pobrać wszystkie pliki i włączyć program wstepMenu.py. Program będzie prowadził do kolejnych etapów. Przykład:  \n",
    "![image.png](attachment:image.png)"
   ]
  },
  {
   "cell_type": "markdown",
   "metadata": {},
   "source": [
    "Poniżej funkcje, które pozwalają na odpowiednie uruchomienie (przetworzenie) niektórych wartości"
   ]
  },
  {
   "cell_type": "code",
   "execution_count": 14,
   "metadata": {},
   "outputs": [],
   "source": [
    "def toBinary(a):\n",
    "    if isinstance(a, str):\n",
    "        a = int(a)\n",
    "    x = int(bin(a)[2:])\n",
    "    return makeBinary(x)\n",
    "\n",
    "\n",
    "def makeBinary(x):\n",
    "    return [int(d) for d in str(x)]\n",
    "\n",
    "def binaryToDec(x):\n",
    "    result = 0\n",
    "    for i in range(len(x)-1, -1, -1):\n",
    "        result = result + x[i] * pow(2, i)\n",
    "    return result"
   ]
  },
  {
   "cell_type": "markdown",
   "metadata": {},
   "source": [
    "## Algorytm dodawania pisemnego\n",
    "Algorytm opiera się na szkolnym dodawaniu liczb całkowitych dodatnich. Na początku, dla potrzeb algorytmów, podobnie jak w przypadku standardowego liczenia \"pod kreską\" dłuższą (jeśli jest) liczbę ustawiamy jako pierwszą. W tym celu zamieniamy kolejnością a i b, gdy konieczne."
   ]
  },
  {
   "cell_type": "code",
   "execution_count": 15,
   "metadata": {},
   "outputs": [],
   "source": [
    "def swap(a, b):\n",
    "    tmp = a\n",
    "    a = b\n",
    "    b = tmp\n",
    "    return [a, b]"
   ]
  },
  {
   "cell_type": "markdown",
   "metadata": {},
   "source": [
    "Zaczynamy od dodania do siebie dwóch najmniej znaczących bitów obu liczb. Dla ułatwienia na początku odwracamy tablice, która zawiera ciąg bitów liczby a i b."
   ]
  },
  {
   "cell_type": "markdown",
   "metadata": {},
   "source": [
    "Robimy tak, aż zabraknie nam cyfr w mniejszej liczbie. W przypadku, gdyby podczas jednego z kroków suma przekroczyła liczbę B, czyli system (bazę) w której operujemy, funkcja Q(tmp, B) zwraca nam liczbę, którą dodajemy do kolejnego bitu oraz resztę z dzielenia przez B. Funkcja Q będzie używana również w kolejnych zadaniach, a prezentuje się ona następująco"
   ]
  },
  {
   "cell_type": "code",
   "execution_count": 16,
   "metadata": {},
   "outputs": [],
   "source": [
    "def Q(x, y):\n",
    "    return [x//y, (x % y)]"
   ]
  },
  {
   "cell_type": "markdown",
   "metadata": {},
   "source": [
    "Pierwsza wartość to ilość, którą dodamy do następnego kroku, druga zaś to reszta, która będzie bitem, który wyszedł z dodawania\n",
    "Gdy skończą się cyfry mniejszej liczby (b) przepisujemy kolejne bity a - chyba, że z poprzednich obliczeń została nam wartość c, wynikająca z funkcji Q(tmp, B)."
   ]
  },
  {
   "cell_type": "code",
   "execution_count": 17,
   "metadata": {},
   "outputs": [],
   "source": [
    "def add(a, b):\n",
    "    if len(b) > len(a):\n",
    "        [a,b] = swap(a, b)\n",
    "    a = a[::-1]\n",
    "    b = b[::-1]\n",
    "    c = 0\n",
    "    d = [None] * len(a)\n",
    "    for i in range(len(b)):\n",
    "        tmp = a[i] + b[i] + c\n",
    "        [c, d[i]] = Q(tmp, 2)\n",
    "\n",
    "    for i in range(len(b), len(a)):\n",
    "        tmp = a[i] + c\n",
    "        [c, d[i]] = Q(tmp, 2)\n",
    "\n",
    "    if c != 0:\n",
    "        d.append(c)\n",
    "\n",
    "    d = d[::-1]\n",
    "    return d"
   ]
  },
  {
   "cell_type": "code",
   "execution_count": 18,
   "metadata": {},
   "outputs": [
    {
     "data": {
      "text/plain": [
       "([1, 0, 1, 1, 1, 0, 0], [1, 0, 1, 0, 0, 1, 1], [1, 0, 1, 0, 1, 1, 1, 1])"
      ]
     },
     "execution_count": 18,
     "metadata": {},
     "output_type": "execute_result"
    }
   ],
   "source": [
    "a,b=[1, 0, 1, 1, 1, 0, 0], [1, 0, 1, 0, 0, 1, 1]\n",
    "a,b, add(a,b)\n"
   ]
  },
  {
   "cell_type": "code",
   "execution_count": 19,
   "metadata": {},
   "outputs": [
    {
     "data": {
      "text/plain": [
       "([1, 0, 0, 0, 0, 0, 1], [1, 1, 0, 1, 1, 1], [1, 1, 1, 1, 0, 0, 0])"
      ]
     },
     "execution_count": 19,
     "metadata": {},
     "output_type": "execute_result"
    }
   ],
   "source": [
    "a,b=[1, 0, 0, 0, 0, 0, 1], [1, 1, 0, 1, 1, 1]\n",
    "a,b,add(a,b)"
   ]
  },
  {
   "cell_type": "markdown",
   "metadata": {},
   "source": [
    "## Algorytm mnożenia pisemnego"
   ]
  },
  {
   "cell_type": "markdown",
   "metadata": {},
   "source": [
    "Podobnie jak w dodawaniu, pierwsza z podanych liczb musi mieć więcej (lub tyle samo) cyfr, więc gdy zajdzie taka konieczność, zamieniamy miejscami a i b. Odwracamy również tablicę."
   ]
  },
  {
   "cell_type": "code",
   "execution_count": 20,
   "metadata": {},
   "outputs": [],
   "source": [
    "def multiply(a, b):\n",
    "    B = 2\n",
    "    a = a[::-1]\n",
    "    b = b[::-1]\n",
    "    if len(b) > len(a):\n",
    "        a, b = swap(a, b)\n",
    "    d = [0] * (len(a) + len(b))\n",
    "    for i in range(0, len(a)):\n",
    "        c = 0\n",
    "        for j in range(0, len(b)):\n",
    "            tmp = a[i] * b[j] + d[i+j] + c\n",
    "            c, d[i+j] = Q(tmp, B)\n",
    "        d[i+len(b)] = c\n",
    "    return optimize(d)"
   ]
  },
  {
   "cell_type": "markdown",
   "metadata": {},
   "source": [
    "Wynik znajdziemy w tablicy d - na początku ją inicjalizujemy. Jej długość będzie niedłuższa niż suma długości liczb a i b. Jest to algorytm podobny do dodawania, jednak z tym dodatkiem, iż tutaj każdą cyfrę z dołu mnożymy przez każdą cyfrę z góry, według kolejności, przy okazji dodająć pozostające reszty, które wyniknęły z powodu przekroczenia liczby B - bazy. Końcowy wynik może zawierać nieznaczące zera - usuwa ja funkcja optimize. "
   ]
  },
  {
   "cell_type": "code",
   "execution_count": 21,
   "metadata": {},
   "outputs": [],
   "source": [
    "def optimize(x):\n",
    "    index = 0\n",
    "    x = x[::-1]\n",
    "    for i in range(0, len(x) - 1):\n",
    "        if(x[i] == 0):\n",
    "            index = index + 1 \n",
    "        else: \n",
    "            break\n",
    "    x = x[index:]\n",
    "    return x"
   ]
  },
  {
   "cell_type": "code",
   "execution_count": 22,
   "metadata": {},
   "outputs": [
    {
     "data": {
      "text/plain": [
       "([1, 1, 1, 0, 0, 1],\n",
       " [1, 0, 1, 0, 0, 0, 0],\n",
       " [1, 0, 0, 0, 1, 1, 1, 0, 1, 0, 0, 0, 0])"
      ]
     },
     "execution_count": 22,
     "metadata": {},
     "output_type": "execute_result"
    }
   ],
   "source": [
    "a,b=[1, 1, 1, 0, 0, 1], [1, 0, 1, 0, 0, 0, 0]\n",
    "a,b,multiply(a,b)"
   ]
  },
  {
   "cell_type": "code",
   "execution_count": 23,
   "metadata": {},
   "outputs": [
    {
     "data": {
      "text/plain": [
       "([1, 0, 1, 0, 1, 0, 0],\n",
       " [1, 1, 1, 1, 1, 0],\n",
       " [1, 0, 1, 0, 0, 0, 1, 0, 1, 1, 0, 0, 0])"
      ]
     },
     "execution_count": 23,
     "metadata": {},
     "output_type": "execute_result"
    }
   ],
   "source": [
    "a,b=[1, 0, 1, 0, 1, 0, 0], [1, 1, 1, 1, 1, 0]\n",
    "a,b,multiply(a,b)"
   ]
  },
  {
   "cell_type": "markdown",
   "metadata": {},
   "source": [
    "## Algorytm dzielenia z resztą"
   ]
  },
  {
   "cell_type": "markdown",
   "metadata": {},
   "source": [
    "Bardziej skomplikowany niż poprzednie. W tym przypadku, jeśli liczba bitów b>a algorytm od razu zwróci wynik. Wszak 2/5 = 0 r 2, nie ma więc sensu zbędnie liczyć, gdy można uniknąć zmarnowanego czasu działania algorytmu. Działając od najbardziej znaczącego bitu wyliczamy pierwszą liczbę, która mieści się w części ciągu cyfry a - część, która jest większa niż b. Dzięki temu uzyskujemy pierwszą cyfrę wyniku. Następnie od reszty odejmujemy cyfry, które powstaiły w wyniku pomnożenia częśći cyfry b  przez część wcześniej powstałego wyniku. W ten sposób powstaną nam dwie cyfry\n",
    "q - wynik\n",
    "r - reszta\n",
    "Oczywiście obie cyfry, jak w przypadku mnożenia, wymagają odwrócenia i usunięcia zbędnych zer na początku."
   ]
  },
  {
   "cell_type": "code",
   "execution_count": 24,
   "metadata": {},
   "outputs": [],
   "source": [
    "def div(a, b):\n",
    "    if len(b) > len(a):\n",
    "        return 0, a\n",
    "    a = a[::-1]\n",
    "    b = b[::-1]\n",
    "\n",
    "    B = 2\n",
    "    k = len(a)\n",
    "    l = len(b)\n",
    "    r = [0] * (k+1)\n",
    "    q = [0] * (k+1)\n",
    "\n",
    "    for i in range(0, k):\n",
    "        r[i] = a[i]\n",
    "\n",
    "    for i in range(k - l, -1, -1):\n",
    "        q[i] = (r[i + l] * B + r[i+l-1]) // (b[l-1])\n",
    "        if q[i] >= B:\n",
    "            q[i] = B - 1\n",
    "        c = 0\n",
    "        for j in range(0, l):\n",
    "            tmp = r[i+j] - q[i] * b[j] + c\n",
    "            c, r[i+j] = Q(tmp, B)\n",
    "        r[i+l] = r[i+l] + c\n",
    "        while r[i+l] < 0:\n",
    "            c = 0\n",
    "            for j in range(0, l):\n",
    "                tmp = r[i+j] + b[j] + c\n",
    "                c, r[i+j] = Q(tmp, B)\n",
    "            r[i+l] = r[i+l] + c\n",
    "            q[i] = q[i] - 1\n",
    "    q = optimize(q)\n",
    "    r = optimize(r)\n",
    "    return(q, r)\n"
   ]
  },
  {
   "cell_type": "code",
   "execution_count": 25,
   "metadata": {},
   "outputs": [
    {
     "name": "stdout",
     "output_type": "stream",
     "text": [
      "[1, 1, 0, 0, 1, 1, 1, 1, 1] [1, 0, 1, 1, 0, 0] ([1, 0, 0, 1], [1, 0, 0, 1, 1])\n"
     ]
    }
   ],
   "source": [
    "a,b=[1, 1, 0, 0, 1, 1, 1, 1, 1], [1, 0, 1, 1, 0, 0]\n",
    "print(a,b,div(a,b))"
   ]
  },
  {
   "cell_type": "code",
   "execution_count": 26,
   "metadata": {},
   "outputs": [
    {
     "name": "stdout",
     "output_type": "stream",
     "text": [
      "[1, 1, 0, 1, 0, 1, 0, 1, 0, 0] [1, 0, 1, 1, 1, 0, 0] ([1, 0, 0, 1], [1, 1, 0, 0, 0])\n"
     ]
    }
   ],
   "source": [
    "a,b=[1, 1, 0, 1, 0, 1, 0, 1, 0, 0], [1, 0, 1, 1, 1, 0, 0]\n",
    "print(a,b,div(a,b))"
   ]
  },
  {
   "cell_type": "markdown",
   "metadata": {},
   "source": [
    "Funkcja zwraca dwa argumenty, pierwszy z nich to wynik, drugi to reszta. Gdybyśmy chcieli w przyszłości zdobyć jeden z tych argumentów, wystarczy wybrać odpowiedni argument w następujący sposób.  \n",
    "### Część całkowita dzielenia (wynik):\n"
   ]
  },
  {
   "cell_type": "code",
   "execution_count": 27,
   "metadata": {},
   "outputs": [
    {
     "name": "stdout",
     "output_type": "stream",
     "text": [
      "[1, 1, 0, 1, 0, 1, 0, 1, 0, 0] [1, 0, 1, 1, 1, 0, 0] [1, 0, 0, 1]\n"
     ]
    }
   ],
   "source": [
    "a,b=[1, 1, 0, 1, 0, 1, 0, 1, 0, 0], [1, 0, 1, 1, 1, 0, 0]\n",
    "print(a,b, div(a,b)[0])"
   ]
  },
  {
   "cell_type": "markdown",
   "metadata": {},
   "source": [
    "### Reszta z dzielenia"
   ]
  },
  {
   "cell_type": "code",
   "execution_count": 28,
   "metadata": {},
   "outputs": [
    {
     "name": "stdout",
     "output_type": "stream",
     "text": [
      "[1, 1, 0, 1, 0, 1, 0, 1, 0, 0] [1, 0, 1, 1, 1, 0, 0] [1, 1, 0, 0, 0]\n"
     ]
    }
   ],
   "source": [
    "a,b=[1, 1, 0, 1, 0, 1, 0, 1, 0, 0], [1, 0, 1, 1, 1, 0, 0]\n",
    "print(a, b, div(a,b)[1])"
   ]
  },
  {
   "cell_type": "markdown",
   "metadata": {},
   "source": [
    "## Algorytm znajdowania odwrotności modulo n"
   ]
  },
  {
   "cell_type": "markdown",
   "metadata": {},
   "source": [
    "Do działania tego algorytmu użyjemy rozszerzonego algorytmu Euklidesa (egcd), dzięki którym otrzymamy niezbędne wartości do znalezienia odwrotności mod n. Ważne jest, że odwrotność występuje wtedy, gdy NWD(a, b) = 1.  \n",
    "egcc(a,b) zwraca nam współczynniki następującego działania:  \n",
    "a * p + b * q = NWD(a,b)  \n",
    "Funkcja zwraca nam wartość NWD(a,b), p, q.  \n",
    "Wartość p (w kodzie oznaczona jako x) w grupie Z<sup>m</sup>, gdzie m to druga wartość, którą podajemy do modinv(a, m), jest wynikiem którego szukamy. "
   ]
  },
  {
   "cell_type": "code",
   "execution_count": 29,
   "metadata": {},
   "outputs": [],
   "source": [
    "def egcd(a, b):\n",
    "    if a == 0:\n",
    "        return (b, 0, 1)\n",
    "    g, x, y = egcd(b%a, a)\n",
    "    \n",
    "    tmp = x\n",
    "    x = y - (b//a) * x\n",
    "    y = tmp\n",
    "    return (g, x, y)\n",
    " \n",
    "def modinv(a, m):\n",
    "    a = binaryToDec(a)\n",
    "    m = binaryToDec(m)\n",
    "    g, x, y = egcd(a, m)\n",
    "    if g == 1:\n",
    "        if m == 1:\n",
    "            return [1]\n",
    "        return toBinary(g), toBinary(x%m)\n",
    "    else:\n",
    "        return toBinary(g), []"
   ]
  },
  {
   "cell_type": "code",
   "execution_count": 31,
   "metadata": {},
   "outputs": [
    {
     "data": {
      "text/plain": [
       "([1, 1, 0, 1, 0, 1, 0, 1], [1, 0, 1, 1, 0, 1, 0, 1, 1], ([1, 1], []))"
      ]
     },
     "execution_count": 31,
     "metadata": {},
     "output_type": "execute_result"
    }
   ],
   "source": [
    "a,b = [1, 1, 0, 1, 0, 1, 0, 1], [1, 0, 1, 1, 0, 1, 0, 1, 1] \n",
    "a,b, modinv(a, b)"
   ]
  },
  {
   "cell_type": "markdown",
   "metadata": {},
   "source": [
    "## Szybkie potęgowanie"
   ]
  },
  {
   "cell_type": "markdown",
   "metadata": {},
   "source": [
    "Własności, które przydadzą nam się do zadania.\n",
    "a<sup>b</sup> mod n = (a<sup>b<sub>0</sub> * 2<sup>0</sup></sup> mod n) * ... * (a<sup>b<sub>z-1</sub> * 2<sup>z-1</sup></sup> mod n)  \n",
    "Gdzie z jest długością liczby binarnej b."
   ]
  },
  {
   "cell_type": "markdown",
   "metadata": {},
   "source": [
    "Początkowo, aby operować w danej grupie Z<sub>n</sub>, szukamy jaką wartość ma b w grupie Z<sub>n</sub>\n",
    "Jeżeli bit będzie równy 0 nie musimy zmieniać nic w wyniku. Wynika to z tej sytuacji:  \n",
    "(a<sup>b<sub>x</sub></sup> * 2<sup>x</sup> mod n) = a<sup>0 * 2<sup>x</sup></sup> mod n = a<sup>0</sup> mod n = 1  \n",
    "Także wynik zmienia się tak na prawdę tylko w przypadku, gdy trafimy na wartość 1. Mnożymy wtedy obecny wynik przez x, następnie wyliczając wartość r w bazie Z<sub>n</sub>."
   ]
  },
  {
   "cell_type": "code",
   "execution_count": 32,
   "metadata": {},
   "outputs": [],
   "source": [
    "def exp(b, k, n):\n",
    "    r = [1] \n",
    "    x = div(b, n)[1]\n",
    "    \n",
    "    for i in range(len(k) - 1, -1, -1):\n",
    "        if k[i] == 1:\n",
    "            r = multiply(r, x)\n",
    "            r = div(r, n)[1]\n",
    "        x  = multiply(x, x)\n",
    "        x  = div(x, n)[1]\n",
    "    return r"
   ]
  },
  {
   "cell_type": "code",
   "execution_count": 33,
   "metadata": {},
   "outputs": [
    {
     "name": "stdout",
     "output_type": "stream",
     "text": [
      "[1, 0, 1, 0, 0, 0, 1, 0, 0] [1, 0, 0, 0, 0, 0, 0, 0] [1, 1, 0, 1, 0, 1, 0, 1, 0, 0] [1, 0, 1, 0, 1, 1, 0, 0]\n"
     ]
    }
   ],
   "source": [
    "n, b, k = [1, 0, 1, 0, 0, 0, 1, 0, 0], [1, 0, 0, 0, 0, 0, 0, 0], [1, 1, 0, 1, 0, 1, 0, 1, 0, 0]\n",
    "print(n, b, k, exp(b, k, n))"
   ]
  },
  {
   "cell_type": "code",
   "execution_count": 34,
   "metadata": {},
   "outputs": [
    {
     "name": "stdout",
     "output_type": "stream",
     "text": [
      "[1, 0, 0, 0, 1, 1, 0] [1, 1, 0, 1, 0] [1, 0, 1, 1, 1, 0, 1, 0, 0, 0] [1, 0, 0, 1, 0, 0]\n"
     ]
    }
   ],
   "source": [
    "n, b, k = [1, 0, 0, 0, 1, 1, 0], [1, 1, 0, 1, 0], [1, 0, 1, 1, 1, 0, 1, 0, 0, 0]\n",
    "print(n, b, k, exp(b, k, n))"
   ]
  },
  {
   "cell_type": "markdown",
   "metadata": {},
   "source": [
    "## Algorytm sprawdzający czy reszta modulo p jest kwadratem\n"
   ]
  },
  {
   "cell_type": "markdown",
   "metadata": {},
   "source": [
    "Zgodnie z Twierdzeniem Eurela\n",
    "m<sup>φ(p)</sup> = 1 (mod p)  \n",
    "W funkcji odzwierciedlone jest to w if'ie\n"
   ]
  },
  {
   "cell_type": "code",
   "execution_count": 35,
   "metadata": {},
   "outputs": [],
   "source": [
    "def isModSqr(p, m):\n",
    "    if exp(m, (div(odejmij(p, [1]), [1, 0])[0]), p) == [1]: # zgodnie z Twierdzeniem Eurela\n",
    "        return 'Tak'\n",
    "    else:\n",
    "        return 'Nie'\n"
   ]
  },
  {
   "cell_type": "markdown",
   "metadata": {},
   "source": [
    "Rozbijmy to działanie na czynniki.  \n",
    "exp - funkcja potęgowania\n",
    "pierwszy argument - m\n",
    "drugi - potęga, czyli φ(p). Zatrzymajmy się przy tym.\n"
   ]
  },
  {
   "cell_type": "code",
   "execution_count": null,
   "metadata": {},
   "outputs": [],
   "source": [
    "(div(odejmij(p, [1]), [1, 0])[0])"
   ]
  },
  {
   "cell_type": "markdown",
   "metadata": {},
   "source": [
    "Jest to odzwierciedlenie przykładu:  \n",
    "(p-1)//2 - czyli dzielenie całkowite (p-1) przez 2.\n"
   ]
  },
  {
   "cell_type": "markdown",
   "metadata": {},
   "source": [
    "## Test Fermata"
   ]
  },
  {
   "cell_type": "markdown",
   "metadata": {},
   "source": [
    "Algorytm wykorzystuje własność  \n",
    "p = x<sup>2</sup> - y<sup>2</sup> do znalezienia czynników liczby p. Przyjmijmy, że x jest równy pierwiastkowi z p, zaokrąglonemu w górę. \n",
    "z<sup>2</sup> = x<sup>2</sup> - p (w kodzie odnośnik #1)\n",
    "Jeśli jest liczbą całkowitą, to mamy pierwsze czynniki x, y. \n",
    "Następnie obliczamy m i n, które są równe:  \n",
    "m = x + y   \n",
    "n = x - y  (#2)\n",
    "Bierze się to z założenia podanego wyżej:\n",
    "p = x<sup>2</sup> - y<sup>2</sup>  \n",
    "czyli z wzoru skróconego mnózenia:\n",
    "p = (x+y) * (x-y) \n",
    "m i n zastępują oba czynniki powyższego działania.  Gdy m i n są różne od 1, to ponownie uruchamiamy procedurę Fermata, aż znajdziemy ich rozkład. Gdy jeden z czynników będzie równy 1, to drugi muśi być równy p - jest to też liczba pierwsza.\n",
    "Czynnik musi być mniejszy/równy p, z tego wynika  \n",
    "m = (x + y) <= p"
   ]
  },
  {
   "cell_type": "code",
   "execution_count": 36,
   "metadata": {},
   "outputs": [],
   "source": [
    "from math import ceil, floor\n",
    "import random\n",
    "\n",
    "def optimize(factors):\n",
    "    j = {}\n",
    "    result = \"\"\n",
    "    for i in range(0, len(factors)):\n",
    "        j[str(factors[i])] = factors.count(factors[i])\n",
    "    for i in j:\n",
    "        if j[i] == 1:\n",
    "            result = result + str(i) + \" * \"\n",
    "        else:\n",
    "            result = result + str(i) + \"^\" + str(j[i]) + \" * \"\n",
    "    return result[:len(result)-2]\n",
    "\n",
    "\n",
    "def fermat(p, result):\n",
    "    x = int(ceil(p ** 0.5))\n",
    "    while True:\n",
    "        z = x * x - p #1\n",
    "        y = int(floor(z ** 0.5)) #1\n",
    "        if z == y * y:\n",
    "            m = x + y #2\n",
    "            n = x - y #2\n",
    "            if n == 1:\n",
    "                break\n",
    "            fermat(m, result)\n",
    "            fermat(n, result)\n",
    "            return\n",
    "        x += 1\n",
    "    result.append(p)\n",
    "\n",
    "def fermatTest(a, n):\n",
    "    result = []\n",
    "    while n % 2 == 0:\n",
    "        n = n // 2\n",
    "        result.append(2)\n",
    "    if n > 1:\n",
    "        fermat(n, result)\n",
    "\n",
    "    if len(result) == 1:\n",
    "        return \"Nie\", result[0]\n",
    "    else:\n",
    "        sorted_Factors = list(map(str, sorted(result)))\n",
    "        return \"Tak\", optimize(sorted_Factors)"
   ]
  },
  {
   "cell_type": "code",
   "execution_count": 37,
   "metadata": {},
   "outputs": [
    {
     "data": {
      "text/plain": [
       "(1305003, 6537819, ('Tak', '3 * 23 * 41 * 2311 '))"
      ]
     },
     "execution_count": 37,
     "metadata": {},
     "output_type": "execute_result"
    }
   ],
   "source": [
    "a,b= 1305003, 6537819\n",
    "a,b,fermatTest(a, b)"
   ]
  },
  {
   "cell_type": "code",
   "execution_count": 38,
   "metadata": {},
   "outputs": [
    {
     "data": {
      "text/plain": [
       "('Tak', '7^2 * 109201 ')"
      ]
     },
     "execution_count": 38,
     "metadata": {},
     "output_type": "execute_result"
    }
   ],
   "source": [
    "fermatTest(4932026, 5350849)\n"
   ]
  },
  {
   "cell_type": "code",
   "execution_count": 39,
   "metadata": {},
   "outputs": [
    {
     "data": {
      "text/plain": [
       "('Tak', '2^2 * 3 * 798823 ')"
      ]
     },
     "execution_count": 39,
     "metadata": {},
     "output_type": "execute_result"
    }
   ],
   "source": [
    "fermatTest(5259574, 9585876)"
   ]
  },
  {
   "cell_type": "code",
   "execution_count": null,
   "metadata": {},
   "outputs": [],
   "source": []
  }
 ],
 "metadata": {
  "kernelspec": {
   "display_name": "Python 3",
   "language": "python",
   "name": "python3"
  },
  "language_info": {
   "codemirror_mode": {
    "name": "ipython",
    "version": 3
   },
   "file_extension": ".py",
   "mimetype": "text/x-python",
   "name": "python",
   "nbconvert_exporter": "python",
   "pygments_lexer": "ipython3",
   "version": "3.8.6"
  }
 },
 "nbformat": 4,
 "nbformat_minor": 4
}
